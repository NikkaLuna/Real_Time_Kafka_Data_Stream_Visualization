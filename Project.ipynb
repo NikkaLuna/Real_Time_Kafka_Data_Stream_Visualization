{
 "cells": [
  {
   "cell_type": "code",
   "execution_count": 4,
   "id": "a185d240",
   "metadata": {},
   "outputs": [],
   "source": [
    "# Importing libraries\n",
    "\n",
    "import psutil\n",
    "import matplotlib.pyplot as plt\n",
    "from matplotlib.animation import FuncAnimation\n",
    "# Fram size for our plot\n",
    "fram = 200\n",
    "# Create an empty list.\n",
    "y = []\n",
    "%matplotlib notebook\n",
    "# Our method\n",
    "def animate(i):\n",
    "    # Check for message in consumer\n",
    "    for message in consumer:\n",
    "        # Convert the byte message into int value\n",
    "        value = int.from_bytes(message.value, 'big')        \n",
    "        # Add that value into the list.\n",
    "        y.append(value)\n",
    "        # Break statement to exit the loop after each run\n",
    "        break\n",
    "    # If the length is less than the frame size\n",
    "    if(len(y) < fram):\n",
    "        # Clear the axis\n",
    "        plt.cla()\n",
    "        # Plot the line with red line and label it\n",
    "        plt.plot(y, 'r', label = 'Real Time Processor') \n",
    "    else:\n",
    "        # Clear the axis\n",
    "        plt.cla()\n",
    "        # Reaching the fram size., plot it with the same values\n",
    "        plt.plot(y[-fram:], 'r', label = 'Real Time Processor')\n",
    "    # Adding the graph limits\n",
    "    plt.ylim(0, 100)\n",
    "    # Adding the x label\n",
    "    plt.xlabel('Time (s)')\n",
    "    # Adding the y label\n",
    "    plt.ylabel('CPU Usage (%)')\n",
    "    plt.legend()\n",
    "    # Setting the layout\n",
    "    plt.tight_layout()\n"
   ]
  },
  {
   "cell_type": "code",
   "execution_count": null,
   "id": "4118ca8c",
   "metadata": {},
   "outputs": [],
   "source": []
  }
 ],
 "metadata": {
  "kernelspec": {
   "display_name": "Python 3 (ipykernel)",
   "language": "python",
   "name": "python3"
  },
  "language_info": {
   "codemirror_mode": {
    "name": "ipython",
    "version": 3
   },
   "file_extension": ".py",
   "mimetype": "text/x-python",
   "name": "python",
   "nbconvert_exporter": "python",
   "pygments_lexer": "ipython3",
   "version": "3.8.10"
  }
 },
 "nbformat": 4,
 "nbformat_minor": 5
}
